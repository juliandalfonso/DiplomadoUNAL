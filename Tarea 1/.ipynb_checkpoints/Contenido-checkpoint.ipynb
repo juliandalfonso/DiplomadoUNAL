{
 "cells": [
  {
   "cell_type": "markdown",
   "metadata": {},
   "source": [
    "<div align=\"center\">\n",
    "<h1>PRIMERA ENTREGA</h1>\n",
    "<h2>CPU | GPU | TPU</h2>\n",
    "<h4>Julian David Alfonso</h4><h4>1019146598</h4>\n",
    "</div>\n",
    "\n",
    "---"
   ]
  },
  {
   "cell_type": "markdown",
   "metadata": {},
   "source": [
    "<h1 align=\"center\" id=\"titulo\" style=\"font-size:60px;\">CPU</h1>\n",
    "<br>\n",
    "<p>Es la parte encargada de procesar todas las instrucciones y datos del software y del hardware, motivo por el cual constituye el elemento más importante del computador.</p>\n",
    "<img width=\"300px\" src=\"https://i.blogs.es/db6bc5/amd/1366_2000.jpg\"/>\n",
    "<p>Su relevancia es tal que, coloquialmente, se ha definido como <b>el cerebro del ordenador</b>. Su objetivo principal es leer e interpretar las diferentes instrucciones que recibe de los programas para, finalmente, ejecutarlas en el monitor a una velocidad medida en gigahercios.<p>\n"
   ]
  },
  {
   "cell_type": "markdown",
   "metadata": {},
   "source": [
    "## ¿Que componentes integran la CPU?\n",
    "\n",
    "La unidad central de procesamiento está formada por varios componentes, entre los que destacan dos como los principales:\n",
    "\n",
    "- ### Unidad aritmético-lógica (ALU, por sus siglas en inglés):\n",
    "    llamada así por las operaciones (aritméticas o lógicas) que el procesador admite. Es, por tanto, el motor de cálculo, que recibe un código y escoge la operación requerida para decodificarlo.\n",
    "    \n",
    "![](https://upload.wikimedia.org/wikipedia/commons/thumb/8/82/ALU_symbol.svg/300px-ALU_symbol.svg.png)\n",
    "\n",
    "- ### Unidad de control:\n",
    "    recibe los datos de entrada e instrucciones desde la memoria, ejecuta y envía la información una vez procesada. Es decir, dirige el funcionamiento interno de la CPU, porque indica cuándo y cómo debe funcionar cada uno de los componentes.\n",
    "\n",
    "![](https://dyksonpradana.files.wordpress.com/2014/09/machine-cycle.jpg)\n",
    "\n",
    "- ### Otros componentes:\n",
    "    - **Bus de datos:** permite que el procesador envíe datos a la memora y periféricos o bien los reciba de estos.\n",
    "    - **Registro de instrucción:** almacena la instrucción que se está llevando a cabo en cada momento.\n",
    "    - **Archivo de registros:** almacena datos temporalmente.\n",
    "    - **Contador de programa:** contiene la dirección de la memoria en la que está la próxima instrucción que debe ejecutarse.\n",
    "    - **Registro de direcciones de memoria:** aglutina la siguiente dirección de memoria de la que se va a leer o escribir un dato.\n",
    "    - **Reloj:** marca la señal a la que trabaja la CPU, ya que los procesadores son sistemas digitales síncronos."
   ]
  },
  {
   "cell_type": "markdown",
   "metadata": {},
   "source": [
    "<img width=\"400px\" src=\"https://d2vlcm61l7u1fs.cloudfront.net/media%2F500%2F50009d35-4846-4d1a-ae9b-0cf4cc0caa4f%2FphpYiSkFd.png\"/>"
   ]
  },
  {
   "cell_type": "markdown",
   "metadata": {},
   "source": [
    "## ¿Cómo funciona la CPU?\n",
    "El funcionamiento de la CPU se basa en cuatro sencillos pasos:\n",
    "- lectura\n",
    "- decodificación\n",
    "- ejecución\n",
    "- escritura\n",
    "\n",
    "para lo que emplea un lenguaje binario, basado en 0s y 1s. En la primera de las fases, el procesador central se encarga de leer aquellos datos que, más tarde, serán gestionados. En este paso existe un desajuste, ya que la cantidad de datos que pueden ser leídos es inferior a la de aquellos que pueden ser procesados, por lo que deben aplicarse cachés y multicanal.\n",
    "\n",
    "Posteriormente, los datos leídos son analizados, siguiendo unas instrucciones, para que éstos se decodifiquen. Al término de esta fase, la información recibida es ejecutada para, finalmente, acabar con el paso de escritura, donde el microprocesador se encarga de devolver los resultados a la memoria de la computadora."
   ]
  },
  {
   "cell_type": "markdown",
   "metadata": {},
   "source": [
    "---"
   ]
  },
  {
   "cell_type": "markdown",
   "metadata": {},
   "source": [
    "<h1 align=\"center\" id=\"titulo\" style=\"font-size:60px;\">GPU</h1>\n",
    "<br>\n",
    "<p>La GPU o unidad de procesamiento gráfico, también conocida como tarjeta gráfica, es el coprocesador de un ordenador encargado únicamente de mostrar las imágenes en el monitor.</p>\n",
    "<img width=\"200px\" src=\"https://i.blogs.es/9777ce/chip/450_1000.jpg\"/>\n",
    "<p>El objetivo principal de este componente interno es aligerar la carga de información que ha de procesar la unidad central o CPU para, de esta manera, mejorar la eficiencia y el rendimiento de la computadora. En consecuencia, el diseño de la tarjeta gráfica está pensado para tener mayor eficacia que el componente central a la hora del procesamiento de –tan sólo– la información gráfica y tridimensional.<p>"
   ]
  },
  {
   "cell_type": "markdown",
   "metadata": {},
   "source": [
    "## Estructura y funcionamiento de la GPU\n",
    "\n",
    "La unidad de procesamiento gráfico está integrada por diferentes piezas. Entre ellas, las más importantes son las miles de unidades de proceso que contiene para gestionar la información gráfica a través de un conjunto de instrucciones basadas en operaciones aritméticas básicas. La cantidad de estos microprocesadores es lo que las hace más o menos eficientes. Además, la GPU también cuenta con un puerto de entrada y salida y, en función de la tipología, puede o no contener un sistema de memoria.\n",
    "\n",
    "<img src=\"https://m.media-amazon.com/images/I/71HSDRlKNHS._AC_SX450_.jpg\" width=\"300px\"/>\n",
    "\n",
    "Su funcionamiento se basa en dos operaciones, el procesamiento de vértices y el procesamiento de píxeles. El primero de estos obtiene la información de los vértices para gestionar su espacio, su rotación y el segmento del vértice que será visible. Gracias a esta función, la GPU podrá seguir con el pixelado. Posteriormente, por tanto, se iniciará el procesamiento de píxeles, gracias al cual podrán verse las imágenes propiamente dichas. Por este motivo, es aquí cuando se aplican las capas y los efectos exigidos para la obtención de texturas y realismo en los gráficos, los cuales, finalmente, son proyectados en la pantalla del ordenador.\n",
    "\n",
    "<img src=\"https://m.media-amazon.com/images/I/71m4E0maHNL._AC_SY450_.jpg\" width=\"300px\"/>"
   ]
  },
  {
   "cell_type": "markdown",
   "metadata": {},
   "source": [
    "## ¿Qué tipos de GPU existen?\n",
    "Las tarjetas gráficas se clasifican, principalmente, en tres tipologías, que son las siguientes:\n",
    "\n",
    "- **Tarjetas integradas.** Éstas se pueden encontrar tanto integradas en la placa base como en el propio procesador, motivo por el cual emplean la memoria del sistema para desarrollar su funcionamiento.\n",
    "\n",
    "- **Tarjetas dedicadas.** Este tipo de unidad gráfica tiene asignadas una serie de funciones específicas y está diseñada para cumplir expresamente con ellas. Su principal característica es que posee una memoria RAM independiente a la de la computadora.\n",
    "\n",
    "- **Tarjetas híbridas.** Estas GPU comparten la memoria del sistema, aunque también tienen una memoria propia (limitada) para desarrollar operaciones inmediatas y acelerar el rendimiento del ordenador."
   ]
  },
  {
   "cell_type": "markdown",
   "metadata": {},
   "source": [
    "---"
   ]
  },
  {
   "cell_type": "markdown",
   "metadata": {},
   "source": [
    "<h1 align=\"center\" id=\"titulo\" style=\"font-size:60px;\">TPU</h1>\n",
    "<br>\n",
    "<p>La Unidad de procesamiento de tensor (TPU) es un chip especial desarrollado por Google. Está optimizado para el aprendizaje automático y la inteligencia artificial (IA). La TPU permite la ejecución eficiente de los algoritmos de la biblioteca del programa TensorFlow. Las TPU se utilizan, por ejemplo, para Street View o para Google Translate.</p>\n",
    "<img width=\"200px\" src=\"https://images.anandtech.com/doci/10340/tpu-2_678x452.png\"/>\n",
    "<p>La abreviatura TPU significa Tensor Processing Unit. Es un chip que fue desarrollado por Google para aplicaciones de inteligencia artificial y aprendizaje automático. Gracias a la ejecución optimizada de algoritmos de la biblioteca del programa TensorFlow, una TPU logra altas velocidades de proceso en redes neuronales.\n",
    "    \n",
    "<img width=\"200px\" src=\"https://i.blogs.es/cd7598/ai-googlechips/1366_2000.jpg\"/>\n",
    "    \n",
    "Las TPU se han utilizado en los centros de datos de Google desde aproximadamente 2015 para aplicaciones como StreetView. Google también usó el chip especial para la competencia de Alpha Go contra los mejores jugadores de Go del mundo. Se ha desarrollado la tercera generación de unidades de procesamiento tensorial. La potencia informática de las TPU está disponible para clientes externos como un servicio de Google Cloud.<p>"
   ]
  }
 ],
 "metadata": {
  "kernelspec": {
   "display_name": "Python 3",
   "language": "python",
   "name": "python3"
  },
  "language_info": {
   "codemirror_mode": {
    "name": "ipython",
    "version": 3
   },
   "file_extension": ".py",
   "mimetype": "text/x-python",
   "name": "python",
   "nbconvert_exporter": "python",
   "pygments_lexer": "ipython3",
   "version": "3.8.8"
  }
 },
 "nbformat": 4,
 "nbformat_minor": 2
}
