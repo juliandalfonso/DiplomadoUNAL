{
  "nbformat": 4,
  "nbformat_minor": 5,
  "metadata": {
    "kernelspec": {
      "display_name": "Python 3",
      "language": "python",
      "name": "python3"
    },
    "language_info": {
      "codemirror_mode": {
        "name": "ipython",
        "version": 3
      },
      "file_extension": ".py",
      "mimetype": "text/x-python",
      "name": "python",
      "nbconvert_exporter": "python",
      "pygments_lexer": "ipython3",
      "version": "3.8.8"
    },
    "colab": {
      "name": "CPU.ipynb",
      "provenance": []
    }
  },
  "cells": [
    {
      "cell_type": "markdown",
      "metadata": {
        "id": "b758ec33"
      },
      "source": [
        "<h1 align=\"center\">CPU - PRIMERA ENTREGA</h1>\n",
        "<h3 align=\"center\">Julian David Alfonso Moreno</h3>\n",
        "\n",
        "---"
      ],
      "id": "b758ec33"
    },
    {
      "cell_type": "markdown",
      "metadata": {
        "id": "4dbf2733"
      },
      "source": [
        "## ¿Que es?\n",
        "<p align=\"left\">Se encarga de procesar todas las instrucciones del dispositivo, leyendo las órdenes y requisitos del sistema operativo, así como las instrucciones de cada uno de los componentes y las aplicaciones.<p>\n",
        "<img width=\"300px\" align=\"left\" src=\"https://i.blogs.es/db6bc5/amd/1366_2000.jpg\"/>"
      ],
      "id": "4dbf2733"
    },
    {
      "cell_type": "markdown",
      "metadata": {
        "id": "cb99b5a1"
      },
      "source": [
        "### Importamos las librerias"
      ],
      "id": "cb99b5a1"
    },
    {
      "cell_type": "code",
      "metadata": {
        "id": "a0d30fee"
      },
      "source": [
        "import numpy as np #para crear vectores y matrices grandes multidimensionales, funciones matemáticas de alto nivel\n",
        "import os #propiedades del sistema operativo\n",
        "import gzip #crea y extrae ficheros comprimidos"
      ],
      "id": "a0d30fee",
      "execution_count": 2,
      "outputs": []
    },
    {
      "cell_type": "markdown",
      "metadata": {
        "id": "ebe7674e"
      },
      "source": [
        "### Creamos la función  ````load_mnist(ruta, tipo='train')````\n",
        "\n",
        "##### Lee los datos de la ruta especificada y los guarda en las variables etiquetas "
      ],
      "id": "ebe7674e"
    },
    {
      "cell_type": "code",
      "metadata": {
        "id": "e08cc4cc"
      },
      "source": [
        "def load_mnist(ruta, tipo='train'):\n",
        "    \n",
        "    #cargamos las rutas(ubicaciones) de las categorias y las imagenes\n",
        "    ruta_categorias = os.path.join(ruta, '%s-labels-idx1-ubyte.gz' % tipo)\n",
        "    ruta_imagenes = os.path.join(ruta, '%s-images-idx3-ubyte.gz' % tipo)\n",
        "    \n",
        "    #abrimos el archivo de categorias(labels) en lectura binaria\n",
        "    with gzip.open(ruta_categorias, 'rb') as rut_cat:\n",
        "        #guardamos informacion en la variable en etiquetas\n",
        "        etiquetas = np.frombuffer(rut_cat.read(), dtype=np.uint8, offset=8)\n",
        "    \n",
        "    #abrimos el archivo de imagenes en lectura binaria\n",
        "    with gzip.open(ruta_imagenes, 'rb') as rut_imgs:\n",
        "        #guardamos informacion en la variable en imagenes\n",
        "        imagenes = np.frombuffer(rut_imgs.read(), dtype=np.uint8, offset=16).reshape(len(etiquetas),784)\n",
        "        \n",
        "    #devolvemos la informacion leida\n",
        "    return imagenes, etiquetas"
      ],
      "id": "e08cc4cc",
      "execution_count": 3,
      "outputs": []
    },
    {
      "cell_type": "markdown",
      "metadata": {
        "id": "dd5158a4"
      },
      "source": [
        "## Acceso a Google Drive"
      ],
      "id": "dd5158a4"
    },
    {
      "cell_type": "markdown",
      "metadata": {
        "id": "274cd07b"
      },
      "source": [
        ""
      ],
      "id": "274cd07b"
    },
    {
      "cell_type": "code",
      "metadata": {
        "id": "8c675964",
        "colab": {
          "base_uri": "https://localhost:8080/"
        },
        "outputId": "7239eefe-a84a-4bfd-9883-564a9f9c2ce6"
      },
      "source": [
        "from google.colab import drive\n",
        "drive.mount('/content/gdrive')\n",
        "\n",
        "ruta = 'gdrive/My Drive/Colab Notebooks/fashion_mnist_data'\n",
        "\n",
        "X_train, Y_train = load_mnist(ruta, tipo='train')\n",
        "X_test, Y_test = load_mnist(ruta, tipo='test')"
      ],
      "id": "8c675964",
      "execution_count": 4,
      "outputs": [
        {
          "output_type": "stream",
          "name": "stdout",
          "text": [
            "Mounted at /content/gdrive\n"
          ]
        }
      ]
    },
    {
      "cell_type": "markdown",
      "metadata": {
        "id": "0a68a233"
      },
      "source": [
        "## Reshape de los datos para garantizar que sean matrices no vectores\n",
        "Diferencia: Un vector es un array **unidimensional** de números. | Una matriz es un array **bidimensional** de números."
      ],
      "id": "0a68a233"
    },
    {
      "cell_type": "code",
      "metadata": {
        "id": "fcc84171"
      },
      "source": [
        "#Reajustamos el tamano del vector de 60mil a 59904 y de 10mil a 9984\n",
        "X_train = X_train[0:59904,:]\n",
        "X_test = X_test[0:9984,:]\n",
        "Y_train = Y_train[0:59904]\n",
        "Y_test = Y_test[0:9984]\n",
        "\n",
        "#cada dato será una imagen de 28x28 pixeles\n",
        "X_train = np.reshape(X_train,(59904,28,28,1))\n",
        "X_test = np.reshape(X_test,(9984,28,28,1))"
      ],
      "id": "fcc84171",
      "execution_count": 5,
      "outputs": []
    },
    {
      "cell_type": "markdown",
      "metadata": {
        "id": "39f92ae1"
      },
      "source": [
        "## Importamos TensorFlow2 con keras"
      ],
      "id": "39f92ae1"
    },
    {
      "cell_type": "code",
      "metadata": {
        "id": "7aa59352",
        "colab": {
          "base_uri": "https://localhost:8080/"
        },
        "outputId": "377ce953-e448-4b29-b292-dbccf5386e76"
      },
      "source": [
        "%tensorflow_version 2.x   # Para garantizar que la versión 2.x sea importada\n",
        "import tensorflow as tf\n",
        "print('Versión de TensorFlow: ' + tf.__version__) #comprobamos la versión"
      ],
      "id": "7aa59352",
      "execution_count": 6,
      "outputs": [
        {
          "output_type": "stream",
          "name": "stdout",
          "text": [
            "`%tensorflow_version` only switches the major version: 1.x or 2.x.\n",
            "You set: `2.x   # Para garantizar que la versión 2.x sea importada`. This will be interpreted as: `2.x`.\n",
            "\n",
            "\n",
            "TensorFlow 2.x selected.\n",
            "Versión de TensorFlow: 2.6.0\n"
          ]
        }
      ]
    },
    {
      "cell_type": "markdown",
      "metadata": {
        "id": "ZBYXBow0TGKo"
      },
      "source": [
        "# Creación del Modelo"
      ],
      "id": "ZBYXBow0TGKo"
    },
    {
      "cell_type": "code",
      "metadata": {
        "id": "Cbtl26wsTbJw",
        "colab": {
          "base_uri": "https://localhost:8080/"
        },
        "outputId": "658ad96a-6cee-475d-b068-9dae43c00282"
      },
      "source": [
        "tf.random.set_seed(200) #creamos una semilla para hacer random de 0 a 200\n",
        "model = tf.keras.models.Sequential() #contenedor del modelo\n",
        "\n",
        "#creamos las 3 capas convolucionales\n",
        "#filtro convolucionales = 64\n",
        "model.add(tf.keras.layers.BatchNormalization(input_shape=X_train.shape[1:]))\n",
        "model.add(tf.keras.layers.Conv2D(64, (5, 5), padding='same', activation='elu'))\n",
        "model.add(tf.keras.layers.MaxPooling2D(pool_size=(2, 2), strides=(2,2)))\n",
        "model.add(tf.keras.layers.Dropout(0.25))\n",
        "\n",
        "#filtro convolucionales = 64\n",
        "model.add(tf.keras.layers.BatchNormalization(input_shape=X_train.shape[1:]))\n",
        "model.add(tf.keras.layers.Conv2D(128, (5, 5), padding='same', activation='elu'))\n",
        "model.add(tf.keras.layers.MaxPooling2D(pool_size=(2, 2)))\n",
        "model.add(tf.keras.layers.Dropout(0.25))\n",
        "\n",
        "#filtro convolucionales = 64\n",
        "model.add(tf.keras.layers.BatchNormalization(input_shape=X_train.shape[1:]))\n",
        "model.add(tf.keras.layers.Conv2D(256, (5, 5), padding='same', activation='elu'))\n",
        "model.add(tf.keras.layers.MaxPooling2D(pool_size=(2, 2), strides=(2,2)))\n",
        "model.add(tf.keras.layers.Dropout(0.25))\n",
        "\n",
        "model.add(tf.keras.layers.Flatten())\n",
        "model.add(tf.keras.layers.Dense(256))\n",
        "model.add(tf.keras.layers.Activation('elu'))\n",
        "model.add(tf.keras.layers.Dropout(0.5))\n",
        "model.add(tf.keras.layers.Dense(10))\n",
        "model.add(tf.keras.layers.Activation('softmax'))\n",
        "model.summary() #imprimimos en pantalla"
      ],
      "id": "Cbtl26wsTbJw",
      "execution_count": 7,
      "outputs": [
        {
          "output_type": "stream",
          "name": "stdout",
          "text": [
            "Model: \"sequential\"\n",
            "_________________________________________________________________\n",
            "Layer (type)                 Output Shape              Param #   \n",
            "=================================================================\n",
            "batch_normalization (BatchNo (None, 28, 28, 1)         4         \n",
            "_________________________________________________________________\n",
            "conv2d (Conv2D)              (None, 28, 28, 64)        1664      \n",
            "_________________________________________________________________\n",
            "max_pooling2d (MaxPooling2D) (None, 14, 14, 64)        0         \n",
            "_________________________________________________________________\n",
            "dropout (Dropout)            (None, 14, 14, 64)        0         \n",
            "_________________________________________________________________\n",
            "batch_normalization_1 (Batch (None, 14, 14, 64)        256       \n",
            "_________________________________________________________________\n",
            "conv2d_1 (Conv2D)            (None, 14, 14, 128)       204928    \n",
            "_________________________________________________________________\n",
            "max_pooling2d_1 (MaxPooling2 (None, 7, 7, 128)         0         \n",
            "_________________________________________________________________\n",
            "dropout_1 (Dropout)          (None, 7, 7, 128)         0         \n",
            "_________________________________________________________________\n",
            "batch_normalization_2 (Batch (None, 7, 7, 128)         512       \n",
            "_________________________________________________________________\n",
            "conv2d_2 (Conv2D)            (None, 7, 7, 256)         819456    \n",
            "_________________________________________________________________\n",
            "max_pooling2d_2 (MaxPooling2 (None, 3, 3, 256)         0         \n",
            "_________________________________________________________________\n",
            "dropout_2 (Dropout)          (None, 3, 3, 256)         0         \n",
            "_________________________________________________________________\n",
            "flatten (Flatten)            (None, 2304)              0         \n",
            "_________________________________________________________________\n",
            "dense (Dense)                (None, 256)               590080    \n",
            "_________________________________________________________________\n",
            "activation (Activation)      (None, 256)               0         \n",
            "_________________________________________________________________\n",
            "dropout_3 (Dropout)          (None, 256)               0         \n",
            "_________________________________________________________________\n",
            "dense_1 (Dense)              (None, 10)                2570      \n",
            "_________________________________________________________________\n",
            "activation_1 (Activation)    (None, 10)                0         \n",
            "=================================================================\n",
            "Total params: 1,619,470\n",
            "Trainable params: 1,619,084\n",
            "Non-trainable params: 386\n",
            "_________________________________________________________________\n"
          ]
        }
      ]
    },
    {
      "cell_type": "markdown",
      "metadata": {
        "id": "IW-o7ST0RrcG"
      },
      "source": [
        "## Entrenamiento con CPU"
      ],
      "id": "IW-o7ST0RrcG"
    },
    {
      "cell_type": "code",
      "metadata": {
        "id": "XP1MS4WfUHIS"
      },
      "source": [
        "model.compile(optimizer='adam',loss='sparse_categorical_crossentropy',metrics=['accuracy'])"
      ],
      "id": "XP1MS4WfUHIS",
      "execution_count": 8,
      "outputs": []
    },
    {
      "cell_type": "code",
      "metadata": {
        "id": "aaa62b0e"
      },
      "source": [
        "import timeit\n",
        "\n",
        "def entrenamiento_cpu():\n",
        "  with tf.device('/cpu:0'):\n",
        "    model.fit(X_train,Y_train,validation_data=(X_test,Y_test),batch_size=128,epochs=2,verbose=1)\n",
        "\n",
        "  return None\n",
        "\n",
        "cpu_time = timeit.timeit('entrenamiento_cpu()', number=1, setup='from __main__ import entrenamiento_cpu')"
      ],
      "id": "aaa62b0e",
      "execution_count": null,
      "outputs": []
    },
    {
      "cell_type": "code",
      "metadata": {
        "id": "aehVXAjdRlJw"
      },
      "source": [
        "print('Tiempo de entrenamiento: ' + str(cpu_time) + ' segundos')"
      ],
      "id": "aehVXAjdRlJw",
      "execution_count": null,
      "outputs": []
    }
  ]
}