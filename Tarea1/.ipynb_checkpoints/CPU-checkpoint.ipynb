{
 "cells": [
  {
   "cell_type": "markdown",
   "id": "60c80d60",
   "metadata": {},
   "source": [
    "<h1 align=\"center\">CPU - PRIMERA ENTREGA</h1>\n",
    "<h3 align=\"center\">Julian David Alfonso Moreno</h3>\n",
    "\n",
    "---"
   ]
  },
  {
   "attachments": {},
   "cell_type": "markdown",
   "id": "a5a5bf46",
   "metadata": {},
   "source": [
    "## ¿Que es?\n",
    "<p align=\"left\">Se encarga de procesar todas las instrucciones del dispositivo, leyendo las órdenes y requisitos del sistema operativo, así como las instrucciones de cada uno de los componentes y las aplicaciones.<p>\n",
    "<img width=\"300px\" align=\"left\" src=\"https://i.blogs.es/db6bc5/amd/1366_2000.jpg\"/>"
   ]
  },
  {
   "cell_type": "markdown",
   "id": "953fdbe4",
   "metadata": {},
   "source": [
    "### Importamos las librerias"
   ]
  },
  {
   "cell_type": "code",
   "execution_count": 4,
   "id": "cdecfa36",
   "metadata": {},
   "outputs": [],
   "source": [
    "import numpy as np #para crear vectores y matrices grandes multidimensionales, funciones matemáticas de alto nivel\n",
    "import os #propiedades del sistema operativo\n",
    "import gzip #crea y extrae ficheros comprimidos"
   ]
  },
  {
   "cell_type": "markdown",
   "id": "d789e88e",
   "metadata": {},
   "source": [
    "### Creamos la función  ````load_mnist(ruta, tipo='train')````\n",
    "\n",
    "##### Lee los datos de la ruta especificada y los guarda en las variables etiquetas "
   ]
  },
  {
   "cell_type": "code",
   "execution_count": 8,
   "id": "24271418",
   "metadata": {},
   "outputs": [],
   "source": [
    "def load_mnist(ruta, tipo='train'):\n",
    "    \n",
    "    #cargamos las rutas(ubicaciones) de las categorias y las imagenes\n",
    "    ruta_categorias = os.path.join(ruta, '%s-labels-idx1-ubyte.gz' % tipo)\n",
    "    ruta_imagenes = os.path.join(ruta, '%s-images-idx3-ubyte.gz' % tipo)\n",
    "    \n",
    "    #abrimos el archivo de categorias(labels) en lectura binaria\n",
    "    with gzip.open(ruta_categorias, 'rb') as rut_cat:\n",
    "        #guardamos informacion en la variable en etiquetas\n",
    "        etiquetas = np.frombuffer(rut_cat.read(), dtype=np.uint8, offset=8)\n",
    "    \n",
    "    #abrimos el archivo de imagenes en lectura binaria\n",
    "    with gzip.open(ruta_imagenes, 'rb') as rut_imgs:\n",
    "        #guardamos informacion en la variable en imagenes\n",
    "        imagenes = np.frombuffer(rut_imgs.read(), dtype=np.uint8, offset=16).reshape(len(etiquetas),784)\n",
    "        \n",
    "    #devolvemos la informacion leida\n",
    "    return imagenes, etiquetas"
   ]
  },
  {
   "cell_type": "markdown",
   "id": "b55a20eb",
   "metadata": {},
   "source": [
    "## Acceso a Google Drive"
   ]
  },
  {
   "cell_type": "markdown",
   "id": "77cf5d9f",
   "metadata": {},
   "source": []
  },
  {
   "cell_type": "code",
   "execution_count": 10,
   "id": "9919d350",
   "metadata": {},
   "outputs": [],
   "source": [
    "from google.colab import drive\n",
    "drive.mount('/content/gdrive')\n",
    "\n",
    "ruta = 'gdrive/My Drive/Colab Notebooks/fashion_mnist_data'\n",
    "\n",
    "X_train, Y_train = load_mnist(ruta, tipo='train')\n",
    "X_test, Y_test = load_mnist(ruta, tipo='test')"
   ]
  },
  {
   "cell_type": "markdown",
   "id": "41644c98",
   "metadata": {},
   "source": [
    "## Reshape de los datos para garantizar que sean matrices no vectores\n",
    "Diferencia: Un vector es un array **unidimensional** de números. | Una matriz es un array **bidimensional** de números."
   ]
  },
  {
   "cell_type": "code",
   "execution_count": 13,
   "id": "3586aa80",
   "metadata": {},
   "outputs": [],
   "source": [
    "#Reajustamos el tamano del vector de 60mil a 59904 y de 10mil a 9984\n",
    "X_train = X_train[0:59904,:]\n",
    "X_test = X_test[0:9984,:]\n",
    "Y_train = Y_train[0:59904]\n",
    "Y_test = Y_test[0:9984]\n",
    "\n",
    "#cada dato será una imagen de 28x28 pixeles\n",
    "X_train = np.reshape(X_train,(59904,28,28,1))\n",
    "X_test = np.reshape(X_test,(9984,28,28,1))"
   ]
  },
  {
   "cell_type": "markdown",
   "id": "15c48d89",
   "metadata": {},
   "source": [
    "## Importamos TensorFlow2 con keras"
   ]
  },
  {
   "cell_type": "code",
   "execution_count": 14,
   "id": "34dd060c",
   "metadata": {},
   "outputs": [
    {
     "name": "stderr",
     "output_type": "stream",
     "text": [
      "UsageError: Line magic function `%tensorflow_version` not found.\n"
     ]
    }
   ],
   "source": [
    "%tensorflow_version 2.x   # Para garantizar que la versión 2.x sea importada\n",
    "import tensorflow as tf\n",
    "print('Versión de TensorFlow: ' + tf.__version__) #comprobamos la versión\n",
    "\n",
    "tf.random.set_seed(200)\n",
    "model = tf.keras.models.Sequential()\n",
    "model.add(tf.keras.layers.BatchNormalization(input_shape=X_train.shape[1:]))\n",
    "model.add(tf.keras.layers.Conv2D(64, (5, 5), padding='same', activation='elu'))\n",
    "model.add(tf.keras.layers.MaxPooling2D(pool_size=(2, 2), strides=(2,2)))\n",
    "model.add(tf.keras.layers.Dropout(0.25))\n",
    "\n",
    "model.add(tf.keras.layers.BatchNormalization(input_shape=X_train.shape[1:]))\n",
    "model.add(tf.keras.layers.Conv2D(128, (5, 5), padding='same', activation='elu'))\n",
    "model.add(tf.keras.layers.MaxPooling2D(pool_size=(2, 2)))\n",
    "model.add(tf.keras.layers.Dropout(0.25))\n",
    "\n",
    "model.add(tf.keras.layers.BatchNormalization(input_shape=X_train.shape[1:]))\n",
    "model.add(tf.keras.layers.Conv2D(256, (5, 5), padding='same', activation='elu'))\n",
    "model.add(tf.keras.layers.MaxPooling2D(pool_size=(2, 2), strides=(2,2)))\n",
    "model.add(tf.keras.layers.Dropout(0.25))\n",
    "\n",
    "model.add(tf.keras.layers.Flatten())\n",
    "model.add(tf.keras.layers.Dense(256))\n",
    "model.add(tf.keras.layers.Activation('elu'))\n",
    "model.add(tf.keras.layers.Dropout(0.5))\n",
    "model.add(tf.keras.layers.Dense(10))\n",
    "model.add(tf.keras.layers.Activation('softmax'))\n",
    "model.summary()\n",
    "\n",
    "model.compile(optimizer='adam',loss='sparse_categorical_crossentropy',metrics=['accuracy'])"
   ]
  },
  {
   "cell_type": "code",
   "execution_count": null,
   "id": "6fe665ac",
   "metadata": {},
   "outputs": [],
   "source": []
  },
  {
   "cell_type": "code",
   "execution_count": null,
   "id": "5362ae42",
   "metadata": {},
   "outputs": [],
   "source": []
  },
  {
   "cell_type": "code",
   "execution_count": null,
   "id": "26324d69",
   "metadata": {},
   "outputs": [],
   "source": []
  }
 ],
 "metadata": {
  "kernelspec": {
   "display_name": "Python 3",
   "language": "python",
   "name": "python3"
  },
  "language_info": {
   "codemirror_mode": {
    "name": "ipython",
    "version": 3
   },
   "file_extension": ".py",
   "mimetype": "text/x-python",
   "name": "python",
   "nbconvert_exporter": "python",
   "pygments_lexer": "ipython3",
   "version": "3.8.8"
  }
 },
 "nbformat": 4,
 "nbformat_minor": 5
}
