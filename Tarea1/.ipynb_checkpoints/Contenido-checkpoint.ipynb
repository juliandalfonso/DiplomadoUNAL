{
 "cells": [
  {
   "cell_type": "markdown",
   "metadata": {},
   "source": [
    "<div align=\"center\">\n",
    "<h1>PRIMERA ENTREGA</h1>\n",
    "<h2>CPU | GPU | TPU</h2>\n",
    "<h4>Julian David Alfonso Moreno</h4>\n",
    "</div>\n",
    "\n",
    "---"
   ]
  },
  {
   "cell_type": "markdown",
   "metadata": {},
   "source": [
    "- [ ] CPU\n",
    "- [ ] GPU\n",
    "- [ ] TPU"
   ]
  },
  {
   "cell_type": "markdown",
   "metadata": {},
   "source": [
    "<h1 align=\"center\"> CPU </h1>\n",
    "<br>\n",
    "<div class=\"recuadro\" align=\"center\">\n",
    "<p>Es la parte encargada de procesar todas las instrucciones y datos del software y del hardware, motivo por el cual constituye el elemento más importante del computador.</p>\n",
    "<img width=\"200px\" src=\"https://i.blogs.es/db6bc5/amd/1366_2000.jpg\"/>\n",
    "<p>Su relevancia es tal que, coloquialmente, se ha definido como <b>el cerebro del ordenador</b>. Su objetivo principal es leer e interpretar las diferentes instrucciones que recibe de los programas para, finalmente, ejecutarlas en el monitor a una velocidad medida en gigahercios.<p>\n",
    "</div>\n",
    "\n",
    "<style>\n",
    "    .recuadro\n",
    "    {\n",
    "        background-color:red;\n",
    "    }\n",
    "    p{\n",
    "        width:50%;\n",
    "    }\n",
    "</style>"
   ]
  },
  {
   "cell_type": "code",
   "execution_count": null,
   "metadata": {},
   "outputs": [],
   "source": []
  }
 ],
 "metadata": {
  "kernelspec": {
   "display_name": "Python 3",
   "language": "python",
   "name": "python3"
  },
  "language_info": {
   "codemirror_mode": {
    "name": "ipython",
    "version": 3
   },
   "file_extension": ".py",
   "mimetype": "text/x-python",
   "name": "python",
   "nbconvert_exporter": "python",
   "pygments_lexer": "ipython3",
   "version": "3.8.8"
  }
 },
 "nbformat": 4,
 "nbformat_minor": 2
}
