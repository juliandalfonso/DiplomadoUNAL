{
 "cells": [
  {
   "cell_type": "markdown",
   "metadata": {},
   "source": [
    "<div align=\"center\">\n",
    "<h1>PRIMERA ENTREGA</h1>\n",
    "<h2>CPU | GPU | TPU</h2>\n",
    "<h4>Julian David Alfonso Moreno</h4>\n",
    "</div>\n",
    "\n",
    "---"
   ]
  },
  {
   "cell_type": "markdown",
   "metadata": {},
   "source": [
    "- [ ] CPU\n",
    "- [ ] GPU\n",
    "- [ ] TPU"
   ]
  },
  {
   "cell_type": "markdown",
   "metadata": {},
   "source": [
    "<h1 align=\"center\"> CPU </h1>\n",
    "<br>\n",
    "<div class=\"recuadro\" align=\"center\">\n",
    "<p>Es la parte encargada de procesar todas las instrucciones y datos del software y del hardware, motivo por el cual constituye el elemento más importante del computador.</p>\n",
    "<img width=\"200px\" src=\"https://i.blogs.es/db6bc5/amd/1366_2000.jpg\"/>\n",
    "<p>Su relevancia es tal que, coloquialmente, se ha definido como <b>el cerebro del ordenador</b>. Su objetivo principal es leer e interpretar las diferentes instrucciones que recibe de los programas para, finalmente, ejecutarlas en el monitor a una velocidad medida en gigahercios.<p>\n",
    "</div>\n",
    "\n",
    "<style>\n",
    "    p{\n",
    "        width:50%;\n",
    "    }\n",
    "</style>"
   ]
  },
  {
   "cell_type": "markdown",
   "metadata": {},
   "source": [
    "## ¿Que componentes integran la CPU?\n",
    "\n",
    "La unidad central de procesamiento está formada por varios componentes, entre los que destacan dos como los principales:\n",
    "\n",
    "- ### Unidad aritmético-lógica (ALU, por sus siglas en inglés):\n",
    "    llamada así por las operaciones (aritméticas o lógicas) que el procesador admite. Es, por tanto, el motor de cálculo, que recibe un código y escoge la operación requerida para decodificarlo.\n",
    "    \n",
    "![](https://upload.wikimedia.org/wikipedia/commons/thumb/8/82/ALU_symbol.svg/300px-ALU_symbol.svg.png)\n",
    "\n",
    "- ### Unidad de control:\n",
    "    recibe los datos de entrada e instrucciones desde la memoria, ejecuta y envía la información una vez procesada. Es decir, dirige el funcionamiento interno de la CPU, porque indica cuándo y cómo debe funcionar cada uno de los componentes.\n",
    "\n",
    "![](https://dyksonpradana.files.wordpress.com/2014/09/machine-cycle.jpg)\n",
    "\n",
    "- ### Otros componentes:\n",
    "    - **Bus de datos:** permite que el procesador envíe datos a la memora y periféricos o bien los reciba de estos.\n",
    "    - **Registro de instrucción:** almacena la instrucción que se está llevando a cabo en cada momento.\n",
    "    - **Archivo de registros:** almacena datos temporalmente.\n",
    "    - **Contador de programa:** contiene la dirección de la memoria en la que está la próxima instrucción que debe ejecutarse.\n",
    "    - **Registro de direcciones de memoria:** aglutina la siguiente dirección de memoria de la que se va a leer o escribir un dato.\n",
    "    - **Reloj:** marca la señal a la que trabaja la CPU, ya que los procesadores son sistemas digitales síncronos."
   ]
  },
  {
   "cell_type": "markdown",
   "metadata": {},
   "source": [
    "<img width=\"400px\" src=\"https://d2vlcm61l7u1fs.cloudfront.net/media%2F500%2F50009d35-4846-4d1a-ae9b-0cf4cc0caa4f%2FphpYiSkFd.png\"/>"
   ]
  },
  {
   "cell_type": "markdown",
   "metadata": {},
   "source": [
    "## ¿Cómo funciona la CPU?\n",
    "El funcionamiento de la CPU se basa en cuatro sencillos pasos:\n",
    "- lectura\n",
    "- decodificación\n",
    "- ejecución\n",
    "- escritura\n",
    "\n",
    "para lo que emplea un lenguaje binario, basado en 0s y 1s. En la primera de las fases, el procesador central se encarga de leer aquellos datos que, más tarde, serán gestionados. En este paso existe un desajuste, ya que la cantidad de datos que pueden ser leídos es inferior a la de aquellos que pueden ser procesados, por lo que deben aplicarse cachés y multicanal.\n",
    "\n",
    "Posteriormente, los datos leídos son analizados, siguiendo unas instrucciones, para que éstos se decodifiquen. Al término de esta fase, la información recibida es ejecutada para, finalmente, acabar con el paso de escritura, donde el microprocesador se encarga de devolver los resultados a la memoria de la computadora."
   ]
  },
  {
   "cell_type": "markdown",
   "metadata": {},
   "source": []
  },
  {
   "cell_type": "code",
   "execution_count": null,
   "metadata": {},
   "outputs": [],
   "source": []
  },
  {
   "cell_type": "code",
   "execution_count": null,
   "metadata": {},
   "outputs": [],
   "source": []
  },
  {
   "cell_type": "code",
   "execution_count": null,
   "metadata": {},
   "outputs": [],
   "source": []
  },
  {
   "cell_type": "code",
   "execution_count": null,
   "metadata": {},
   "outputs": [],
   "source": []
  }
 ],
 "metadata": {
  "kernelspec": {
   "display_name": "Python 3",
   "language": "python",
   "name": "python3"
  },
  "language_info": {
   "codemirror_mode": {
    "name": "ipython",
    "version": 3
   },
   "file_extension": ".py",
   "mimetype": "text/x-python",
   "name": "python",
   "nbconvert_exporter": "python",
   "pygments_lexer": "ipython3",
   "version": "3.8.8"
  }
 },
 "nbformat": 4,
 "nbformat_minor": 2
}
