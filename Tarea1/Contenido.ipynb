{
 "cells": [
  {
   "cell_type": "markdown",
   "source": [
    "<div align=\"center\">\n",
    "<h1>PRIMERA ENTREGA</h1>\n",
    "<h2>CPU | GPU | TPU</h2>\n",
    "<h4>Julian David Alfonso Moreno</h4>\n",
    "</div>\n",
    "\n",
    "---"
   ],
   "metadata": {}
  },
  {
   "cell_type": "markdown",
   "source": [
    "- [ ] CPU\n",
    "- [ ] GPU\n",
    "- [ ] TPU"
   ],
   "metadata": {}
  },
  {
   "cell_type": "markdown",
   "source": [
    "<h1 align=\"center\"> CPU </h1>\r\n",
    "<br>\r\n",
    "<div class=\"recuadro\" align=\"center\">\r\n",
    "<p>Es la parte encargada de procesar todas las instrucciones y datos del software y del hardware, motivo por el cual constituye el elemento más importante del computador.</p>\r\n",
    "<img width=\"200px\" src=\"https://i.blogs.es/db6bc5/amd/1366_2000.jpg\"/>\r\n",
    "<p>Su relevancia es tal que, coloquialmente, se ha definido como <b>el cerebro del ordenador</b>. Su objetivo principal es leer e interpretar las diferentes instrucciones que recibe de los programas para, finalmente, ejecutarlas en el monitor a una velocidad medida en gigahercios.<p>\r\n",
    "</div>\r\n",
    "\r\n",
    "<style>\r\n",
    "    h1\r\n",
    "    {\r\n",
    "        font-family:\"Monospace\";\r\n",
    "        font-size:4vw;\r\n",
    "    }\r\n",
    "    p{\r\n",
    "        width:50%;\r\n",
    "    }\r\n",
    "</style>"
   ],
   "metadata": {}
  },
  {
   "cell_type": "markdown",
   "source": [
    "## ¿Que componentes integran la CPU?"
   ],
   "metadata": {}
  },
  {
   "cell_type": "code",
   "execution_count": null,
   "source": [],
   "outputs": [],
   "metadata": {}
  },
  {
   "cell_type": "code",
   "execution_count": null,
   "source": [],
   "outputs": [],
   "metadata": {}
  }
 ],
 "metadata": {
  "kernelspec": {
   "display_name": "Python 3",
   "language": "python",
   "name": "python3"
  },
  "language_info": {
   "codemirror_mode": {
    "name": "ipython",
    "version": 3
   },
   "file_extension": ".py",
   "mimetype": "text/x-python",
   "name": "python",
   "nbconvert_exporter": "python",
   "pygments_lexer": "ipython3",
   "version": "3.8.8"
  }
 },
 "nbformat": 4,
 "nbformat_minor": 2
}